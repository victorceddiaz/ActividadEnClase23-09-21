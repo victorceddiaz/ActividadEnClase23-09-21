{
  "nbformat": 4,
  "nbformat_minor": 0,
  "metadata": {
    "colab": {
      "name": "Actividad en clase 23-09-21.ipynb",
      "provenance": [],
      "collapsed_sections": [],
      "authorship_tag": "ABX9TyPNu3CPfMEuLTUflcfHkzis",
      "include_colab_link": true
    },
    "kernelspec": {
      "name": "python3",
      "display_name": "Python 3"
    },
    "language_info": {
      "name": "python"
    }
  },
  "cells": [
    {
      "cell_type": "markdown",
      "metadata": {
        "id": "view-in-github",
        "colab_type": "text"
      },
      "source": [
        "<a href=\"https://colab.research.google.com/github/victorceddiaz/ActividadEnClase23-09-21/blob/main/Actividad_en_clase_23_09_21.ipynb\" target=\"_parent\"><img src=\"https://colab.research.google.com/assets/colab-badge.svg\" alt=\"Open In Colab\"/></a>"
      ]
    },
    {
      "cell_type": "markdown",
      "metadata": {
        "id": "9DyFdpYavBW-"
      },
      "source": [
        "##Actividad en clase 23-09-21\n",
        "\n",
        "Alumno: Cedillo Díaz Victor Antonio \n",
        "\n",
        "Grupo: 1360\n",
        "\n",
        "Materia: Estructura de Datos"
      ]
    },
    {
      "cell_type": "code",
      "metadata": {
        "id": "Yfqdea9_uk_g"
      },
      "source": [
        "class Persona:\n",
        "    def __init__(self, n, e, est):\n",
        "        self.__nombre= n\n",
        "        self.__edad=e\n",
        "        self.__estatura=est\n",
        "\n",
        "    def to_string (self) :\n",
        "        return \"Nombre : \" + self.__nombre + \", Edad : \" + str(self.__edad) + \", Estatura : \" + str(self.__estatura)\n",
        "    \n",
        "    def set_estatura(self, nueva_est):\n",
        "        if nueva_est>0.10 and nueva_est<2.5 :\n",
        "            self.__estatura=nueva_est\n",
        "        else :\n",
        "            print(\"ERROR : Esa estatura no es posible.\")\n",
        "    \n",
        "    def get_estatura(self) :\n",
        "        return self.__estatura"
      ],
      "execution_count": 1,
      "outputs": []
    },
    {
      "cell_type": "code",
      "metadata": {
        "colab": {
          "base_uri": "https://localhost:8080/"
        },
        "id": "eMBh84RnvcNH",
        "outputId": "af535a34-9129-4b10-b022-40461b15c968"
      },
      "source": [
        "per = Persona(\"Jose\", 18, 1.70)\n",
        "print(per.to_string())\n",
        "\n",
        "#encapsulamiento (private)\n",
        "per.nombre=\"Victor\"  #ESTO NO SE RECOMIENDA\n",
        "print(per.to_string())\n",
        "\n",
        "per.set_estatura(1.85)\n",
        "print(per.to_string())\n",
        "\n",
        "print(\"Estatura : \", end=\"\")\n",
        "print(per.get_estatura())"
      ],
      "execution_count": 2,
      "outputs": [
        {
          "output_type": "stream",
          "name": "stdout",
          "text": [
            "Nombre : Jose, Edad : 18, Estatura : 1.7\n",
            "Nombre : Jose, Edad : 18, Estatura : 1.7\n",
            "Nombre : Jose, Edad : 18, Estatura : 1.85\n",
            "Estatura : 1.85\n"
          ]
        }
      ]
    },
    {
      "cell_type": "code",
      "metadata": {
        "id": "8jUj6t0jvfh8"
      },
      "source": [
        "class Estudiante(Persona) :\n",
        "    def __init__(self, nombre, edad, est, nc) :\n",
        "        self.__num_cta = nc\n",
        "        super().__init__(nombre, edad, est)\n",
        "\n",
        "    def to_string(self) :\n",
        "        return super().to_string() + \", \" + \"Número de cuenta : \" + self.__num_cta"
      ],
      "execution_count": 3,
      "outputs": []
    },
    {
      "cell_type": "code",
      "metadata": {
        "colab": {
          "base_uri": "https://localhost:8080/"
        },
        "id": "fkGRRT8Fvi_j",
        "outputId": "f9c0ca3c-e0b6-4d2f-97cb-d676d44ffc85"
      },
      "source": [
        "est = Estudiante(\"Jose\", 14, 1.5, \"1212\")\n",
        "print(est.to_string())"
      ],
      "execution_count": 4,
      "outputs": [
        {
          "output_type": "stream",
          "name": "stdout",
          "text": [
            "Nombre : Jose, Edad : 14, Estatura : 1.5, Número de cuenta : 1212\n"
          ]
        }
      ]
    }
  ]
}